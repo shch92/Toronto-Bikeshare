{
 "cells": [
  {
   "cell_type": "markdown",
   "id": "d891c6c2",
   "metadata": {},
   "source": [
    "# Toronto Bikeshare Project - Exploratory Data Analysis"
   ]
  },
  {
   "cell_type": "markdown",
   "id": "5e24c50d",
   "metadata": {},
   "source": [
    "As mentioned in the first notebook `Toronto_Bikeshare_1_DataCleaning`, the Toronto Bikeshare Project aims to use open source data from [Toronto's Bikeshare Program](https://bikesharetoronto.com/pricing/?gclid=Cj0KCQiAz9ieBhCIARIsACB0oGIMFeM961gRm3NjO-8os2Q4FqV7dm4YVdArkEpCOa5caaQnc2nRWe4aAhUuEALw_wcB) and conduct Time Series as well as Network Analysis on it. The aim is to predict ridership changes on different temporal intervals as well as look at how ridership occurs for a potential bike from 1 station over a few days. These kind of analyses can assist with operational decisions for the organisation such as when to potentially increase bike availability in certain stops based on day or week or where additional stops can be added based on usage pattterns. \n",
    "\n",
    "In this notebook the cleaned data will be loaded and explored further to get potential insights that can assist with the modelling of data later. Let's start by loading the cleaned data from the previously exported csv file. "
   ]
  },
  {
   "cell_type": "code",
   "execution_count": null,
   "id": "6f342199",
   "metadata": {},
   "outputs": [],
   "source": [
    "# import pandas to work with dataframes\n",
    "import pandas as pd\n",
    "\n",
    "\n",
    "# date_cols = ['Start Time', 'End Time']\n",
    "#import the data\n",
    "tor_biking = pd.read_csv(f'data/cleaned/cleaned.csv', index_col=0) ,parse_dates=date_cols)\n",
    "\n",
    "\n"
   ]
  },
  {
   "cell_type": "markdown",
   "id": "eb5dc7ba",
   "metadata": {},
   "source": [
    "After ensuring that the data is loaded correctly and the columns data types are preserved, we can continue exploring the different columns of the data. "
   ]
  },
  {
   "cell_type": "code",
   "execution_count": 2,
   "id": "8b64d085",
   "metadata": {},
   "outputs": [
    {
     "data": {
      "text/html": [
       "<div>\n",
       "<style scoped>\n",
       "    .dataframe tbody tr th:only-of-type {\n",
       "        vertical-align: middle;\n",
       "    }\n",
       "\n",
       "    .dataframe tbody tr th {\n",
       "        vertical-align: top;\n",
       "    }\n",
       "\n",
       "    .dataframe thead th {\n",
       "        text-align: right;\n",
       "    }\n",
       "</style>\n",
       "<table border=\"1\" class=\"dataframe\">\n",
       "  <thead>\n",
       "    <tr style=\"text-align: right;\">\n",
       "      <th></th>\n",
       "      <th>Trip Id</th>\n",
       "      <th>Trip  Duration</th>\n",
       "      <th>Start Station Id</th>\n",
       "      <th>Start Time</th>\n",
       "      <th>Start Station Name</th>\n",
       "      <th>End Station Id</th>\n",
       "      <th>End Time</th>\n",
       "      <th>End Station Name</th>\n",
       "      <th>Bike Id</th>\n",
       "      <th>Annual Member</th>\n",
       "    </tr>\n",
       "  </thead>\n",
       "  <tbody>\n",
       "    <tr>\n",
       "      <th>0</th>\n",
       "      <td>14805109</td>\n",
       "      <td>72.25</td>\n",
       "      <td>7334</td>\n",
       "      <td>2022-01-01 00:02:00</td>\n",
       "      <td>Simcoe St / Wellington St North</td>\n",
       "      <td>7269</td>\n",
       "      <td>2022-01-01 01:15:00</td>\n",
       "      <td>Toronto Eaton Centre (Yonge St)</td>\n",
       "      <td>5139</td>\n",
       "      <td>0</td>\n",
       "    </tr>\n",
       "    <tr>\n",
       "      <th>1</th>\n",
       "      <td>14805110</td>\n",
       "      <td>2.10</td>\n",
       "      <td>7443</td>\n",
       "      <td>2022-01-01 00:02:00</td>\n",
       "      <td>Dundas St E / George St</td>\n",
       "      <td>7270</td>\n",
       "      <td>2022-01-01 00:05:00</td>\n",
       "      <td>Church St / Dundas St E - SMART</td>\n",
       "      <td>3992</td>\n",
       "      <td>1</td>\n",
       "    </tr>\n",
       "    <tr>\n",
       "      <th>2</th>\n",
       "      <td>14805112</td>\n",
       "      <td>15.70</td>\n",
       "      <td>7399</td>\n",
       "      <td>2022-01-01 00:04:00</td>\n",
       "      <td>Lower Jarvis / Queens Quay E</td>\n",
       "      <td>7686</td>\n",
       "      <td>2022-01-01 00:19:00</td>\n",
       "      <td>7686</td>\n",
       "      <td>361</td>\n",
       "      <td>1</td>\n",
       "    </tr>\n",
       "    <tr>\n",
       "      <th>3</th>\n",
       "      <td>14805113</td>\n",
       "      <td>70.93</td>\n",
       "      <td>7334</td>\n",
       "      <td>2022-01-01 00:04:00</td>\n",
       "      <td>Simcoe St / Wellington St North</td>\n",
       "      <td>7269</td>\n",
       "      <td>2022-01-01 01:15:00</td>\n",
       "      <td>Toronto Eaton Centre (Yonge St)</td>\n",
       "      <td>4350</td>\n",
       "      <td>0</td>\n",
       "    </tr>\n",
       "    <tr>\n",
       "      <th>4</th>\n",
       "      <td>14805114</td>\n",
       "      <td>72.55</td>\n",
       "      <td>7334</td>\n",
       "      <td>2022-01-01 00:05:00</td>\n",
       "      <td>Simcoe St / Wellington St North</td>\n",
       "      <td>7038</td>\n",
       "      <td>2022-01-01 01:17:00</td>\n",
       "      <td>Dundas St W / Yonge St</td>\n",
       "      <td>5074</td>\n",
       "      <td>0</td>\n",
       "    </tr>\n",
       "  </tbody>\n",
       "</table>\n",
       "</div>"
      ],
      "text/plain": [
       "    Trip Id  Trip  Duration  Start Station Id           Start Time  \\\n",
       "0  14805109           72.25              7334  2022-01-01 00:02:00   \n",
       "1  14805110            2.10              7443  2022-01-01 00:02:00   \n",
       "2  14805112           15.70              7399  2022-01-01 00:04:00   \n",
       "3  14805113           70.93              7334  2022-01-01 00:04:00   \n",
       "4  14805114           72.55              7334  2022-01-01 00:05:00   \n",
       "\n",
       "                Start Station Name  End Station Id             End Time  \\\n",
       "0  Simcoe St / Wellington St North            7269  2022-01-01 01:15:00   \n",
       "1          Dundas St E / George St            7270  2022-01-01 00:05:00   \n",
       "2     Lower Jarvis / Queens Quay E            7686  2022-01-01 00:19:00   \n",
       "3  Simcoe St / Wellington St North            7269  2022-01-01 01:15:00   \n",
       "4  Simcoe St / Wellington St North            7038  2022-01-01 01:17:00   \n",
       "\n",
       "                  End Station Name  Bike Id  Annual Member  \n",
       "0  Toronto Eaton Centre (Yonge St)     5139              0  \n",
       "1  Church St / Dundas St E - SMART     3992              1  \n",
       "2                             7686      361              1  \n",
       "3  Toronto Eaton Centre (Yonge St)     4350              0  \n",
       "4           Dundas St W / Yonge St     5074              0  "
      ]
     },
     "execution_count": 2,
     "metadata": {},
     "output_type": "execute_result"
    }
   ],
   "source": [
    "tor_biking.head()"
   ]
  },
  {
   "cell_type": "markdown",
   "id": "04c3f26c",
   "metadata": {},
   "source": [
    "The data seems to display properly. "
   ]
  },
  {
   "cell_type": "code",
   "execution_count": 4,
   "id": "118940c9",
   "metadata": {},
   "outputs": [
    {
     "name": "stdout",
     "output_type": "stream",
     "text": [
      "<class 'pandas.core.frame.DataFrame'>\n",
      "Int64Index: 5197925 entries, 0 to 5197924\n",
      "Data columns (total 10 columns):\n",
      " #   Column              Dtype  \n",
      "---  ------              -----  \n",
      " 0   Trip Id             int64  \n",
      " 1   Trip  Duration      float64\n",
      " 2   Start Station Id    int64  \n",
      " 3   Start Time          object \n",
      " 4   Start Station Name  object \n",
      " 5   End Station Id      int64  \n",
      " 6   End Time            object \n",
      " 7   End Station Name    object \n",
      " 8   Bike Id             int64  \n",
      " 9   Annual Member       int64  \n",
      "dtypes: float64(1), int64(5), object(4)\n",
      "memory usage: 436.2+ MB\n"
     ]
    }
   ],
   "source": [
    "tor_biking.info()"
   ]
  },
  {
   "cell_type": "markdown",
   "id": "2d4c8fe8",
   "metadata": {},
   "source": [
    "Seems like reloading the data has converted the datetime data to object. We will re-convert those columns."
   ]
  },
  {
   "cell_type": "code",
   "execution_count": 6,
   "id": "a873656e",
   "metadata": {},
   "outputs": [],
   "source": [
    "tor_biking['Start Time'] = pd.to_datetime(tor_biking['Start Time'])"
   ]
  },
  {
   "cell_type": "code",
   "execution_count": 7,
   "id": "1df2c38f",
   "metadata": {},
   "outputs": [],
   "source": [
    "tor_biking['End Time'] = pd.to_datetime(tor_biking['End Time'])"
   ]
  },
  {
   "cell_type": "markdown",
   "id": "b6be3c71",
   "metadata": {},
   "source": [
    "Let's confirm this has taken place. "
   ]
  },
  {
   "cell_type": "code",
   "execution_count": 8,
   "id": "5371c143",
   "metadata": {},
   "outputs": [
    {
     "name": "stdout",
     "output_type": "stream",
     "text": [
      "<class 'pandas.core.frame.DataFrame'>\n",
      "Int64Index: 5197925 entries, 0 to 5197924\n",
      "Data columns (total 10 columns):\n",
      " #   Column              Dtype         \n",
      "---  ------              -----         \n",
      " 0   Trip Id             int64         \n",
      " 1   Trip  Duration      float64       \n",
      " 2   Start Station Id    int64         \n",
      " 3   Start Time          datetime64[ns]\n",
      " 4   Start Station Name  object        \n",
      " 5   End Station Id      int64         \n",
      " 6   End Time            datetime64[ns]\n",
      " 7   End Station Name    object        \n",
      " 8   Bike Id             int64         \n",
      " 9   Annual Member       int64         \n",
      "dtypes: datetime64[ns](2), float64(1), int64(5), object(2)\n",
      "memory usage: 436.2+ MB\n"
     ]
    }
   ],
   "source": [
    "tor_biking.info()"
   ]
  },
  {
   "cell_type": "markdown",
   "id": "4962fd3f",
   "metadata": {},
   "source": [
    "We can also look at the data to ensure the datetime columns look correct. "
   ]
  },
  {
   "cell_type": "code",
   "execution_count": 9,
   "id": "5a2b90bb",
   "metadata": {},
   "outputs": [
    {
     "data": {
      "text/html": [
       "<div>\n",
       "<style scoped>\n",
       "    .dataframe tbody tr th:only-of-type {\n",
       "        vertical-align: middle;\n",
       "    }\n",
       "\n",
       "    .dataframe tbody tr th {\n",
       "        vertical-align: top;\n",
       "    }\n",
       "\n",
       "    .dataframe thead th {\n",
       "        text-align: right;\n",
       "    }\n",
       "</style>\n",
       "<table border=\"1\" class=\"dataframe\">\n",
       "  <thead>\n",
       "    <tr style=\"text-align: right;\">\n",
       "      <th></th>\n",
       "      <th>Trip Id</th>\n",
       "      <th>Trip  Duration</th>\n",
       "      <th>Start Station Id</th>\n",
       "      <th>Start Time</th>\n",
       "      <th>Start Station Name</th>\n",
       "      <th>End Station Id</th>\n",
       "      <th>End Time</th>\n",
       "      <th>End Station Name</th>\n",
       "      <th>Bike Id</th>\n",
       "      <th>Annual Member</th>\n",
       "    </tr>\n",
       "  </thead>\n",
       "  <tbody>\n",
       "    <tr>\n",
       "      <th>0</th>\n",
       "      <td>14805109</td>\n",
       "      <td>72.25</td>\n",
       "      <td>7334</td>\n",
       "      <td>2022-01-01 00:02:00</td>\n",
       "      <td>Simcoe St / Wellington St North</td>\n",
       "      <td>7269</td>\n",
       "      <td>2022-01-01 01:15:00</td>\n",
       "      <td>Toronto Eaton Centre (Yonge St)</td>\n",
       "      <td>5139</td>\n",
       "      <td>0</td>\n",
       "    </tr>\n",
       "    <tr>\n",
       "      <th>1</th>\n",
       "      <td>14805110</td>\n",
       "      <td>2.10</td>\n",
       "      <td>7443</td>\n",
       "      <td>2022-01-01 00:02:00</td>\n",
       "      <td>Dundas St E / George St</td>\n",
       "      <td>7270</td>\n",
       "      <td>2022-01-01 00:05:00</td>\n",
       "      <td>Church St / Dundas St E - SMART</td>\n",
       "      <td>3992</td>\n",
       "      <td>1</td>\n",
       "    </tr>\n",
       "    <tr>\n",
       "      <th>2</th>\n",
       "      <td>14805112</td>\n",
       "      <td>15.70</td>\n",
       "      <td>7399</td>\n",
       "      <td>2022-01-01 00:04:00</td>\n",
       "      <td>Lower Jarvis / Queens Quay E</td>\n",
       "      <td>7686</td>\n",
       "      <td>2022-01-01 00:19:00</td>\n",
       "      <td>7686</td>\n",
       "      <td>361</td>\n",
       "      <td>1</td>\n",
       "    </tr>\n",
       "    <tr>\n",
       "      <th>3</th>\n",
       "      <td>14805113</td>\n",
       "      <td>70.93</td>\n",
       "      <td>7334</td>\n",
       "      <td>2022-01-01 00:04:00</td>\n",
       "      <td>Simcoe St / Wellington St North</td>\n",
       "      <td>7269</td>\n",
       "      <td>2022-01-01 01:15:00</td>\n",
       "      <td>Toronto Eaton Centre (Yonge St)</td>\n",
       "      <td>4350</td>\n",
       "      <td>0</td>\n",
       "    </tr>\n",
       "    <tr>\n",
       "      <th>4</th>\n",
       "      <td>14805114</td>\n",
       "      <td>72.55</td>\n",
       "      <td>7334</td>\n",
       "      <td>2022-01-01 00:05:00</td>\n",
       "      <td>Simcoe St / Wellington St North</td>\n",
       "      <td>7038</td>\n",
       "      <td>2022-01-01 01:17:00</td>\n",
       "      <td>Dundas St W / Yonge St</td>\n",
       "      <td>5074</td>\n",
       "      <td>0</td>\n",
       "    </tr>\n",
       "  </tbody>\n",
       "</table>\n",
       "</div>"
      ],
      "text/plain": [
       "    Trip Id  Trip  Duration  Start Station Id          Start Time  \\\n",
       "0  14805109           72.25              7334 2022-01-01 00:02:00   \n",
       "1  14805110            2.10              7443 2022-01-01 00:02:00   \n",
       "2  14805112           15.70              7399 2022-01-01 00:04:00   \n",
       "3  14805113           70.93              7334 2022-01-01 00:04:00   \n",
       "4  14805114           72.55              7334 2022-01-01 00:05:00   \n",
       "\n",
       "                Start Station Name  End Station Id            End Time  \\\n",
       "0  Simcoe St / Wellington St North            7269 2022-01-01 01:15:00   \n",
       "1          Dundas St E / George St            7270 2022-01-01 00:05:00   \n",
       "2     Lower Jarvis / Queens Quay E            7686 2022-01-01 00:19:00   \n",
       "3  Simcoe St / Wellington St North            7269 2022-01-01 01:15:00   \n",
       "4  Simcoe St / Wellington St North            7038 2022-01-01 01:17:00   \n",
       "\n",
       "                  End Station Name  Bike Id  Annual Member  \n",
       "0  Toronto Eaton Centre (Yonge St)     5139              0  \n",
       "1  Church St / Dundas St E - SMART     3992              1  \n",
       "2                             7686      361              1  \n",
       "3  Toronto Eaton Centre (Yonge St)     4350              0  \n",
       "4           Dundas St W / Yonge St     5074              0  "
      ]
     },
     "execution_count": 9,
     "metadata": {},
     "output_type": "execute_result"
    }
   ],
   "source": [
    "tor_biking.head()"
   ]
  },
  {
   "cell_type": "markdown",
   "id": "66feb6bd",
   "metadata": {},
   "source": [
    "It looks, fine. A data dictionary is created below to better understand each column. The data contains the following columns.\n",
    "\n",
    "|Column Name   | Data Type | Column Description |   \n",
    "|:---|:---|:---|\n",
    "|  Trip Id | int64  | Unique identification number for the trip  |\n",
    "|  Trip Duration | float64 | Duration of the trip in minutes  |\n",
    "|  Start Station Id | int64  |  Unique identification number for the station where the trip started|\n",
    "|  Start Time\t | datetime64[ns] | Date and time in hours and minutes for the start time of the trip  |\n",
    "|  Start Station Name\t| object |  Name of station where the trip started |\n",
    "|  End Station Id\t | int64  | Unique identification number for the station where the trip ended  |\n",
    "|  End Time\t| datetime64[ns] |  Date and time in hours and minutes for the end time of the trip |\n",
    "|  End Station Name | object |  Name of station where the trip ended |\n",
    "|  Bike Id\t | int64  | Unique identification number for the bike used  |\n",
    "|  Annual Member | int64  | Whether the user who undertook the trip in an Annual Member, with 1 denoting that the member is an annual number  |\n"
   ]
  },
  {
   "cell_type": "markdown",
   "id": "96a2ed07",
   "metadata": {},
   "source": [
    "The first column to explore will be `Trip Duration`.\n",
    "\n",
    "## Trip Duration\n",
    "\n",
    "The distribution of trips can tell us the overall ridership trends. However, to understand the ridership behaviour better, it would be vital to look at the membership and non-membership types as well as the associated pricing that Toronto bikeshare provides. \n",
    "\n",
    "\n",
    "At the time of this study there was a change in the pricing.\n",
    "\n",
    "**Before April 2023, there were 4 types of trips that could be taken:**\n",
    "- `Single Trip` for `$3.25`. Lasts up to 30 minutes in original payment.\n",
    "- `24 Hour Access Pass` for `$7`. Unlimited 30 minute trips for 24 hours.\n",
    "- `72 Hour Access Pass` for `$15`. Unlimited 30 minute trips for 72 hours.\n",
    "- `Annual 30 Membership` for `$99`. Unlimited 30 minute trips for a year.\n",
    "- `Annual 45 Membership` for `$115`. Unlimited 45 minute trips for a year.\n",
    "\n",
    "There were Overage Fees applied if the rider went above the required number of minutes. The overage fees pre-April 2023 can be found in the tables below.\n",
    "\n",
    "\n",
    "|   Annual 30 & Short Term Passes Trip Time   |   Overage Fees ($)   |\n",
    "|    :-:    |    :-:    |\n",
    "|    0:01 - 30:00\t|   0.00  \t|\n",
    "|   30:01 - 60:00 \t|   4.00\t|\n",
    "|   60:01 – 90:00   |   8.00\t|\n",
    "|   90:01 – 120:00 \t|   12.00\t|\n",
    "|   120:01 – 150:00\t|   16.00\t|\n",
    "|   150:01 – 180:00\t|   20.00\t|\n",
    "\n",
    "\n",
    "\n",
    "|   Annual 45 Membership Trip Time   |   Overage Fees ($)   |\n",
    "|    :-:    |    :-:    |\n",
    "|    0:01 – 45:00\t|   0.00  \t|\n",
    "|   45:01 – 75:00 \t|   4.00\t|\n",
    "|   75:01 – 105:00  |   8.00\t|\n",
    "|   105:01 – 135:00 |   12.00\t|\n",
    "|   135:01 – 165:00\t|   16.00\t|\n",
    "|   165:01 – 195:00\t|   20.00\t|\n"
   ]
  },
  {
   "cell_type": "markdown",
   "id": "829c7c0c",
   "metadata": {},
   "source": [
    "**We can also see how the pricing changed post April 3rd 2023.**\n",
    "\n",
    "We can see the [membership and non-membership types as well as the associated pricing](https://bikesharetoronto.com/pricing/?gclid=CjwKCAiAxP2eBhBiEiwA5puhNc7wMh_IeT4mBU3r_HZMTHb_ehtGvQ_P_ghRDR2HPL-eQ50tZ76w8hoCNiMQAvD_BwE) that Toronto bikeshare provides. At the time of this study (May\n",
    "2023), there are 4 types of trips that can be taken:\n",
    "- `Pay As You Go Pass` `$1` charge to unlock the bike followed by:\n",
    "    - `$0.12/minute` for classic bikes or\n",
    "    - `$0.20/minute` for e-bikes\n",
    "    \n",
    "    \n",
    "- `Day Pass` for `$15`. Unlimited 90 minute rides on a classic bike for 24 hours.\n",
    "\n",
    "\n",
    "- `Annual 30 Membership` for `$105`. Unlimited 30 minute trips for a year.\n",
    "    - `50%` off e-bike per minute rate `($0.10/min)`\n",
    "    - No unlock fees\n",
    "    \n",
    "    \n",
    "- `Annual 45 Membership` for `$120`. Unlimited 45 minute trips for a year.\n",
    "    - `50%` off e-bike per minute rate `($0.10/min)`\n",
    "    - No unlock fees\n",
    "\n",
    "\n",
    "There are Overage Fees applied if the rider goes above the require number of minutes. The overage fees can be found in the tables below.\n",
    "\n",
    "\n",
    "|   Annual 30 & 45 Term Passes Trip Time   |   Overage Fees ($)   |\n",
    "|    :-:    |    :-:    |\n",
    "|   30:01 Onwards|    0.12 per minute\t|\n",
    "\n",
    "\n",
    "This information can therefore assist us in looking at the distribution of rides. Let's start by looking at the descriptive statistics for `Trip Duration` below. "
   ]
  },
  {
   "cell_type": "code",
   "execution_count": 13,
   "id": "37c9b10c",
   "metadata": {},
   "outputs": [
    {
     "data": {
      "text/html": [
       "<div>\n",
       "<style scoped>\n",
       "    .dataframe tbody tr th:only-of-type {\n",
       "        vertical-align: middle;\n",
       "    }\n",
       "\n",
       "    .dataframe tbody tr th {\n",
       "        vertical-align: top;\n",
       "    }\n",
       "\n",
       "    .dataframe thead th {\n",
       "        text-align: right;\n",
       "    }\n",
       "</style>\n",
       "<table border=\"1\" class=\"dataframe\">\n",
       "  <thead>\n",
       "    <tr style=\"text-align: right;\">\n",
       "      <th></th>\n",
       "      <th>Trip Id</th>\n",
       "      <th>Trip  Duration</th>\n",
       "      <th>Start Station Id</th>\n",
       "      <th>End Station Id</th>\n",
       "      <th>Bike Id</th>\n",
       "      <th>Annual Member</th>\n",
       "    </tr>\n",
       "  </thead>\n",
       "  <tbody>\n",
       "    <tr>\n",
       "      <th>count</th>\n",
       "      <td>5.197925e+06</td>\n",
       "      <td>5.197925e+06</td>\n",
       "      <td>5.197925e+06</td>\n",
       "      <td>5.197925e+06</td>\n",
       "      <td>5.197925e+06</td>\n",
       "      <td>5.197925e+06</td>\n",
       "    </tr>\n",
       "    <tr>\n",
       "      <th>mean</th>\n",
       "      <td>1.783254e+07</td>\n",
       "      <td>1.591296e+01</td>\n",
       "      <td>7.275418e+03</td>\n",
       "      <td>7.273102e+03</td>\n",
       "      <td>3.839426e+03</td>\n",
       "      <td>3.624496e-01</td>\n",
       "    </tr>\n",
       "    <tr>\n",
       "      <th>std</th>\n",
       "      <td>1.721669e+06</td>\n",
       "      <td>8.948605e+01</td>\n",
       "      <td>2.021399e+02</td>\n",
       "      <td>2.074155e+02</td>\n",
       "      <td>2.057616e+03</td>\n",
       "      <td>4.807077e-01</td>\n",
       "    </tr>\n",
       "    <tr>\n",
       "      <th>min</th>\n",
       "      <td>1.480511e+07</td>\n",
       "      <td>0.000000e+00</td>\n",
       "      <td>7.000000e+03</td>\n",
       "      <td>7.000000e+03</td>\n",
       "      <td>1.400000e+01</td>\n",
       "      <td>0.000000e+00</td>\n",
       "    </tr>\n",
       "    <tr>\n",
       "      <th>25%</th>\n",
       "      <td>1.634749e+07</td>\n",
       "      <td>7.080000e+00</td>\n",
       "      <td>7.095000e+03</td>\n",
       "      <td>7.089000e+03</td>\n",
       "      <td>2.141000e+03</td>\n",
       "      <td>0.000000e+00</td>\n",
       "    </tr>\n",
       "    <tr>\n",
       "      <th>50%</th>\n",
       "      <td>1.784270e+07</td>\n",
       "      <td>1.170000e+01</td>\n",
       "      <td>7.250000e+03</td>\n",
       "      <td>7.247000e+03</td>\n",
       "      <td>3.990000e+03</td>\n",
       "      <td>0.000000e+00</td>\n",
       "    </tr>\n",
       "    <tr>\n",
       "      <th>75%</th>\n",
       "      <td>1.931861e+07</td>\n",
       "      <td>1.875000e+01</td>\n",
       "      <td>7.422000e+03</td>\n",
       "      <td>7.419000e+03</td>\n",
       "      <td>5.638000e+03</td>\n",
       "      <td>1.000000e+00</td>\n",
       "    </tr>\n",
       "    <tr>\n",
       "      <th>max</th>\n",
       "      <td>2.080958e+07</td>\n",
       "      <td>5.985757e+04</td>\n",
       "      <td>7.772000e+03</td>\n",
       "      <td>9.999000e+03</td>\n",
       "      <td>7.263000e+03</td>\n",
       "      <td>1.000000e+00</td>\n",
       "    </tr>\n",
       "  </tbody>\n",
       "</table>\n",
       "</div>"
      ],
      "text/plain": [
       "            Trip Id  Trip  Duration  Start Station Id  End Station Id  \\\n",
       "count  5.197925e+06    5.197925e+06      5.197925e+06    5.197925e+06   \n",
       "mean   1.783254e+07    1.591296e+01      7.275418e+03    7.273102e+03   \n",
       "std    1.721669e+06    8.948605e+01      2.021399e+02    2.074155e+02   \n",
       "min    1.480511e+07    0.000000e+00      7.000000e+03    7.000000e+03   \n",
       "25%    1.634749e+07    7.080000e+00      7.095000e+03    7.089000e+03   \n",
       "50%    1.784270e+07    1.170000e+01      7.250000e+03    7.247000e+03   \n",
       "75%    1.931861e+07    1.875000e+01      7.422000e+03    7.419000e+03   \n",
       "max    2.080958e+07    5.985757e+04      7.772000e+03    9.999000e+03   \n",
       "\n",
       "            Bike Id  Annual Member  \n",
       "count  5.197925e+06   5.197925e+06  \n",
       "mean   3.839426e+03   3.624496e-01  \n",
       "std    2.057616e+03   4.807077e-01  \n",
       "min    1.400000e+01   0.000000e+00  \n",
       "25%    2.141000e+03   0.000000e+00  \n",
       "50%    3.990000e+03   0.000000e+00  \n",
       "75%    5.638000e+03   1.000000e+00  \n",
       "max    7.263000e+03   1.000000e+00  "
      ]
     },
     "execution_count": 13,
     "metadata": {},
     "output_type": "execute_result"
    }
   ],
   "source": [
    "tor_biking.describe()"
   ]
  },
  {
   "cell_type": "markdown",
   "id": "c332c116",
   "metadata": {},
   "source": [
    "The count for `Trip Duration` shows that (as expected) there are ~5.2 million data points available. The minimum ride duration is 0 seconds (as it's 0.0000 minutes) while the maximum ride duration is 59857.57 minutes. This value seems to be outrageously high and likely the result of the bike being abandoned somewhere. Considering there are quite steep overage fees applied. \n",
    "\n",
    "The mean is ~16 minutes with the median being ~ 12 minutes. This shows that the overall distribution is skewed. Let's try to visualize this below."
   ]
  },
  {
   "cell_type": "code",
   "execution_count": 9,
   "id": "e42c4db8",
   "metadata": {},
   "outputs": [
    {
     "data": {
      "image/png": "[encoded data removed]",
      "text/plain": [
       "<Figure size 432x288 with 1 Axes>"
      ]
     },
     "metadata": {
      "needs_background": "light"
     },
     "output_type": "display_data"
    }
   ],
   "source": [
    "import matplotlib.pyplot as plt\n",
    "import seaborn as sns\n",
    "\n",
    "plt.figure()\n",
    "sns.histplot(tor_biking['Trip  Duration'])\n",
    "plt.show()"
   ]
  },
  {
   "cell_type": "code",
   "execution_count": null,
   "id": "0a68d245",
   "metadata": {},
   "outputs": [],
   "source": []
  },
  {
   "cell_type": "code",
   "execution_count": null,
   "id": "044c9d46",
   "metadata": {},
   "outputs": [],
   "source": []
  },
  {
   "cell_type": "code",
   "execution_count": null,
   "id": "6f0d41cb",
   "metadata": {},
   "outputs": [],
   "source": []
  },
  {
   "cell_type": "code",
   "execution_count": null,
   "id": "3b64d81a",
   "metadata": {},
   "outputs": [],
   "source": []
  },
  {
   "cell_type": "code",
   "execution_count": null,
   "id": "5432257f",
   "metadata": {},
   "outputs": [],
   "source": []
  },
  {
   "cell_type": "markdown",
   "id": "38937dea",
   "metadata": {},
   "source": [
    "### Windows Functions Usage\n",
    "\n",
    "Using windows functions to look at end to start time lag and put a 1 in column if it's less than 1 minute. "
   ]
  },
  {
   "cell_type": "code",
   "execution_count": null,
   "id": "a7b2d17c",
   "metadata": {},
   "outputs": [],
   "source": []
  },
  {
   "cell_type": "code",
   "execution_count": null,
   "id": "7a412b27",
   "metadata": {},
   "outputs": [],
   "source": []
  },
  {
   "cell_type": "code",
   "execution_count": null,
   "id": "73dcf38a",
   "metadata": {},
   "outputs": [],
   "source": []
  },
  {
   "cell_type": "code",
   "execution_count": null,
   "id": "877536f4",
   "metadata": {},
   "outputs": [],
   "source": []
  },
  {
   "cell_type": "code",
   "execution_count": null,
   "id": "15882526",
   "metadata": {},
   "outputs": [],
   "source": []
  }
 ],
 "metadata": {
  "kernelspec": {
   "display_name": "Python 3 (ipykernel)",
   "language": "python",
   "name": "python3"
  },
  "language_info": {
   "codemirror_mode": {
    "name": "ipython",
    "version": 3
   },
   "file_extension": ".py",
   "mimetype": "text/x-python",
   "name": "python",
   "nbconvert_exporter": "python",
   "pygments_lexer": "ipython3",
   "version": "3.9.12"
  }
 },
 "nbformat": 4,
 "nbformat_minor": 5
}
