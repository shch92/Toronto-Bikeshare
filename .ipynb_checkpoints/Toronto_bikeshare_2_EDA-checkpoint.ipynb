{
 "cells": [
  {
   "cell_type": "markdown",
   "id": "d891c6c2",
   "metadata": {},
   "source": [
    "# Toronto Bikeshare Project - Exploratory Data Analysis"
   ]
  },
  {
   "cell_type": "markdown",
   "id": "5e24c50d",
   "metadata": {},
   "source": [
    "As mentioned in the first notebook `Toronto_Bikeshare_1_DataCleaning`, the Toronto Bikeshare Project aims to use open source data from [Toronto's Bikeshare Program](https://bikesharetoronto.com/pricing/?gclid=Cj0KCQiAz9ieBhCIARIsACB0oGIMFeM961gRm3NjO-8os2Q4FqV7dm4YVdArkEpCOa5caaQnc2nRWe4aAhUuEALw_wcB) and conduct Time Series as well as Network Analysis on it. The aim is to predict ridership changes on different temporal intervals as well as look at how ridership occurs for a potential bike from 1 station over a few days. These kind of analyses can assist with operational decisions for the organisation such as when to potentially increase bike availability in certain stops based on day or week or where additional stops can be added based on usage pattterns. \n",
    "\n",
    "In this notebook the cleaned data will be loaded and explored further to get potential insights that can assist with the modelling of data later. Let's start by loading the cleaned data from the previously exported csv file. "
   ]
  },
  {
   "cell_type": "code",
   "execution_count": 1,
   "id": "6f342199",
   "metadata": {},
   "outputs": [],
   "source": [
    "# import pandas to work with dataframes\n",
    "import pandas as pd\n",
    "\n",
    "\n",
    "date_cols = ['start_time','end_time']\n",
    "#import the data\n",
    "tor_biking = pd.read_csv(f'data/cleaned/cleaned.csv', index_col=0, parse_dates=date_cols)\n",
    "\n",
    "\n"
   ]
  },
  {
   "cell_type": "markdown",
   "id": "eb5dc7ba",
   "metadata": {},
   "source": [
    "After ensuring that the data is loaded correctly and the columns data types are preserved, we can continue exploring the different columns of the data. "
   ]
  },
  {
   "cell_type": "code",
   "execution_count": 2,
   "id": "8b64d085",
   "metadata": {},
   "outputs": [
    {
     "data": {
      "text/html": [
       "<div>\n",
       "<style scoped>\n",
       "    .dataframe tbody tr th:only-of-type {\n",
       "        vertical-align: middle;\n",
       "    }\n",
       "\n",
       "    .dataframe tbody tr th {\n",
       "        vertical-align: top;\n",
       "    }\n",
       "\n",
       "    .dataframe thead th {\n",
       "        text-align: right;\n",
       "    }\n",
       "</style>\n",
       "<table border=\"1\" class=\"dataframe\">\n",
       "  <thead>\n",
       "    <tr style=\"text-align: right;\">\n",
       "      <th></th>\n",
       "      <th>trip_id</th>\n",
       "      <th>trip_duration</th>\n",
       "      <th>start_station_id</th>\n",
       "      <th>start_time</th>\n",
       "      <th>start_station_name</th>\n",
       "      <th>end_station_id</th>\n",
       "      <th>end_time</th>\n",
       "      <th>end_station_name</th>\n",
       "      <th>bike_id</th>\n",
       "      <th>annual_member</th>\n",
       "    </tr>\n",
       "  </thead>\n",
       "  <tbody>\n",
       "    <tr>\n",
       "      <th>0</th>\n",
       "      <td>14805109</td>\n",
       "      <td>72.25</td>\n",
       "      <td>7334</td>\n",
       "      <td>2022-01-01 00:02:00</td>\n",
       "      <td>Simcoe St / Wellington St North</td>\n",
       "      <td>7269</td>\n",
       "      <td>2022-01-01 01:15:00</td>\n",
       "      <td>Toronto Eaton Centre (Yonge St)</td>\n",
       "      <td>5139</td>\n",
       "      <td>0</td>\n",
       "    </tr>\n",
       "    <tr>\n",
       "      <th>1</th>\n",
       "      <td>14805110</td>\n",
       "      <td>2.10</td>\n",
       "      <td>7443</td>\n",
       "      <td>2022-01-01 00:02:00</td>\n",
       "      <td>Dundas St E / George St</td>\n",
       "      <td>7270</td>\n",
       "      <td>2022-01-01 00:05:00</td>\n",
       "      <td>Church St / Dundas St E - SMART</td>\n",
       "      <td>3992</td>\n",
       "      <td>1</td>\n",
       "    </tr>\n",
       "    <tr>\n",
       "      <th>2</th>\n",
       "      <td>14805112</td>\n",
       "      <td>15.70</td>\n",
       "      <td>7399</td>\n",
       "      <td>2022-01-01 00:04:00</td>\n",
       "      <td>Lower Jarvis / Queens Quay E</td>\n",
       "      <td>7686</td>\n",
       "      <td>2022-01-01 00:19:00</td>\n",
       "      <td>7686</td>\n",
       "      <td>361</td>\n",
       "      <td>1</td>\n",
       "    </tr>\n",
       "    <tr>\n",
       "      <th>3</th>\n",
       "      <td>14805113</td>\n",
       "      <td>70.93</td>\n",
       "      <td>7334</td>\n",
       "      <td>2022-01-01 00:04:00</td>\n",
       "      <td>Simcoe St / Wellington St North</td>\n",
       "      <td>7269</td>\n",
       "      <td>2022-01-01 01:15:00</td>\n",
       "      <td>Toronto Eaton Centre (Yonge St)</td>\n",
       "      <td>4350</td>\n",
       "      <td>0</td>\n",
       "    </tr>\n",
       "    <tr>\n",
       "      <th>4</th>\n",
       "      <td>14805114</td>\n",
       "      <td>72.55</td>\n",
       "      <td>7334</td>\n",
       "      <td>2022-01-01 00:05:00</td>\n",
       "      <td>Simcoe St / Wellington St North</td>\n",
       "      <td>7038</td>\n",
       "      <td>2022-01-01 01:17:00</td>\n",
       "      <td>Dundas St W / Yonge St</td>\n",
       "      <td>5074</td>\n",
       "      <td>0</td>\n",
       "    </tr>\n",
       "  </tbody>\n",
       "</table>\n",
       "</div>"
      ],
      "text/plain": [
       "    trip_id  trip_duration  start_station_id          start_time  \\\n",
       "0  14805109          72.25              7334 2022-01-01 00:02:00   \n",
       "1  14805110           2.10              7443 2022-01-01 00:02:00   \n",
       "2  14805112          15.70              7399 2022-01-01 00:04:00   \n",
       "3  14805113          70.93              7334 2022-01-01 00:04:00   \n",
       "4  14805114          72.55              7334 2022-01-01 00:05:00   \n",
       "\n",
       "                start_station_name  end_station_id            end_time  \\\n",
       "0  Simcoe St / Wellington St North            7269 2022-01-01 01:15:00   \n",
       "1          Dundas St E / George St            7270 2022-01-01 00:05:00   \n",
       "2     Lower Jarvis / Queens Quay E            7686 2022-01-01 00:19:00   \n",
       "3  Simcoe St / Wellington St North            7269 2022-01-01 01:15:00   \n",
       "4  Simcoe St / Wellington St North            7038 2022-01-01 01:17:00   \n",
       "\n",
       "                  end_station_name  bike_id  annual_member  \n",
       "0  Toronto Eaton Centre (Yonge St)     5139              0  \n",
       "1  Church St / Dundas St E - SMART     3992              1  \n",
       "2                             7686      361              1  \n",
       "3  Toronto Eaton Centre (Yonge St)     4350              0  \n",
       "4           Dundas St W / Yonge St     5074              0  "
      ]
     },
     "execution_count": 2,
     "metadata": {},
     "output_type": "execute_result"
    }
   ],
   "source": [
    "tor_biking.head()"
   ]
  },
  {
   "cell_type": "markdown",
   "id": "04c3f26c",
   "metadata": {},
   "source": [
    "The data seems to display properly. "
   ]
  },
  {
   "cell_type": "code",
   "execution_count": 3,
   "id": "118940c9",
   "metadata": {},
   "outputs": [
    {
     "name": "stdout",
     "output_type": "stream",
     "text": [
      "<class 'pandas.core.frame.DataFrame'>\n",
      "Int64Index: 5197925 entries, 0 to 5197924\n",
      "Data columns (total 10 columns):\n",
      " #   Column              Dtype         \n",
      "---  ------              -----         \n",
      " 0   trip_id             int64         \n",
      " 1   trip_duration       float64       \n",
      " 2   start_station_id    int64         \n",
      " 3   start_time          datetime64[ns]\n",
      " 4   start_station_name  object        \n",
      " 5   end_station_id      int64         \n",
      " 6   end_time            datetime64[ns]\n",
      " 7   end_station_name    object        \n",
      " 8   bike_id             int64         \n",
      " 9   annual_member       int64         \n",
      "dtypes: datetime64[ns](2), float64(1), int64(5), object(2)\n",
      "memory usage: 436.2+ MB\n"
     ]
    }
   ],
   "source": [
    "tor_biking.info()"
   ]
  },
  {
   "cell_type": "markdown",
   "id": "2d4c8fe8",
   "metadata": {},
   "source": [
    "Seems like reloading the data has converted the datetime data to object. We will re-convert those columns."
   ]
  },
  {
   "cell_type": "markdown",
   "id": "66feb6bd",
   "metadata": {},
   "source": [
    "It looks, fine. A data dictionary is created below to better understand each column. The data contains the following columns.\n",
    "\n",
    "|Column Name   | Data Type | Column Description |   \n",
    "|:---|:---|:---|\n",
    "|  trip_id | int64  | Unique identification number for the trip  |\n",
    "|  trip__duration | float64 | Duration of the trip in minutes  |\n",
    "|  start_station_id | int64  |  Unique identification number for the station where the trip started|\n",
    "|  start_time\t | datetime64[ns] | Date and time in hours and minutes for the start time of the trip  |\n",
    "|  start_station_name\t| object |  Name of station where the trip started |\n",
    "|  end_station_id\t | int64  | Unique identification number for the station where the trip ended  |\n",
    "|  end_time\t| datetime64[ns] |  Date and time in hours and minutes for the end time of the trip |\n",
    "|  end_station_name | object |  Name of station where the trip ended |\n",
    "|  bike_id\t | int64  | Unique identification number for the bike used  |\n",
    "|  annual_member | int64  | Whether the user who undertook the trip in an Annual Member, with 1 denoting that the member is an annual number  |\n"
   ]
  },
  {
   "cell_type": "markdown",
   "id": "96a2ed07",
   "metadata": {},
   "source": [
    "The first column to explore will be `Trip Duration`.\n",
    "\n",
    "## Trip Duration\n",
    "\n",
    "The distribution of trips can tell us the overall ridership trends. However, to understand the ridership behaviour better, it would be vital to look at the membership and non-membership types as well as the associated pricing that Toronto bikeshare provides. \n",
    "\n",
    "\n",
    "At the time of this study there was a change in the pricing.\n",
    "\n",
    "**Before April 2023, there were 4 types of trips that could be taken:**\n",
    "- `Single Trip` for `$3.25`. Lasts up to 30 minutes in original payment.\n",
    "- `24 Hour Access Pass` for `$7`. Unlimited 30 minute trips for 24 hours.\n",
    "- `72 Hour Access Pass` for `$15`. Unlimited 30 minute trips for 72 hours.\n",
    "- `Annual 30 Membership` for `$99`. Unlimited 30 minute trips for a year.\n",
    "- `Annual 45 Membership` for `$115`. Unlimited 45 minute trips for a year.\n",
    "\n",
    "There were Overage Fees applied if the rider went above the required number of minutes. The overage fees pre-April 2023 can be found in the tables below.\n",
    "\n",
    "\n",
    "|   Annual 30 & Short Term Passes Trip Time   |   Overage Fees ($)   |\n",
    "|    :-:    |    :-:    |\n",
    "|    0:01 - 30:00\t|   0.00  \t|\n",
    "|   30:01 - 60:00 \t|   4.00\t|\n",
    "|   60:01 – 90:00   |   8.00\t|\n",
    "|   90:01 – 120:00 \t|   12.00\t|\n",
    "|   120:01 – 150:00\t|   16.00\t|\n",
    "|   150:01 – 180:00\t|   20.00\t|\n",
    "\n",
    "\n",
    "\n",
    "|   Annual 45 Membership Trip Time   |   Overage Fees ($)   |\n",
    "|    :-:    |    :-:    |\n",
    "|    0:01 – 45:00\t|   0.00  \t|\n",
    "|   45:01 – 75:00 \t|   4.00\t|\n",
    "|   75:01 – 105:00  |   8.00\t|\n",
    "|   105:01 – 135:00 |   12.00\t|\n",
    "|   135:01 – 165:00\t|   16.00\t|\n",
    "|   165:01 – 195:00\t|   20.00\t|\n"
   ]
  },
  {
   "cell_type": "markdown",
   "id": "829c7c0c",
   "metadata": {},
   "source": [
    "**We can also see how the pricing changed post April 3rd 2023.**\n",
    "\n",
    "We can see the [membership and non-membership types as well as the associated pricing](https://bikesharetoronto.com/pricing/?gclid=CjwKCAiAxP2eBhBiEiwA5puhNc7wMh_IeT4mBU3r_HZMTHb_ehtGvQ_P_ghRDR2HPL-eQ50tZ76w8hoCNiMQAvD_BwE) that Toronto bikeshare provides. At the time of this study (May\n",
    "2023), there are 4 types of trips that can be taken:\n",
    "- `Pay As You Go Pass` `$1` charge to unlock the bike followed by:\n",
    "    - `$0.12/minute` for classic bikes or\n",
    "    - `$0.20/minute` for e-bikes\n",
    "    \n",
    "    \n",
    "- `Day Pass` for `$15`. Unlimited 90 minute rides on a classic bike for 24 hours.\n",
    "\n",
    "\n",
    "- `Annual 30 Membership` for `$105`. Unlimited 30 minute trips for a year.\n",
    "    - `50%` off e-bike per minute rate `($0.10/min)`\n",
    "    - No unlock fees\n",
    "    \n",
    "    \n",
    "- `Annual 45 Membership` for `$120`. Unlimited 45 minute trips for a year.\n",
    "    - `50%` off e-bike per minute rate `($0.10/min)`\n",
    "    - No unlock fees\n",
    "\n",
    "\n",
    "There are Overage Fees applied if the rider goes above the require number of minutes. The overage fees can be found in the tables below.\n",
    "\n",
    "\n",
    "|   Annual 30 & 45 Term Passes Trip Time   |   Overage Fees ($)   |\n",
    "|    :-:    |    :-:    |\n",
    "|   30:01 Onwards|    0.12 per minute\t|\n",
    "\n",
    "\n",
    "This information can therefore assist us in looking at the distribution of rides. Let's start by looking at the descriptive statistics for `Trip Duration` below. "
   ]
  },
  {
   "cell_type": "markdown",
   "id": "5e6a6de1",
   "metadata": {},
   "source": [
    "### Trip Duration"
   ]
  },
  {
   "cell_type": "markdown",
   "id": "7f80b821",
   "metadata": {},
   "source": [
    "The summary statistics can be visualized using `.describe()`."
   ]
  },
  {
   "cell_type": "code",
   "execution_count": 4,
   "id": "37c9b10c",
   "metadata": {},
   "outputs": [
    {
     "data": {
      "text/plain": [
       "count    5.197925e+06\n",
       "mean     1.591296e+01\n",
       "std      8.948605e+01\n",
       "min      0.000000e+00\n",
       "25%      7.080000e+00\n",
       "50%      1.170000e+01\n",
       "75%      1.875000e+01\n",
       "max      5.985757e+04\n",
       "Name: trip_duration, dtype: float64"
      ]
     },
     "execution_count": 4,
     "metadata": {},
     "output_type": "execute_result"
    }
   ],
   "source": [
    "tor_biking.trip_duration.describe()"
   ]
  },
  {
   "cell_type": "code",
   "execution_count": 5,
   "id": "9c022c8f",
   "metadata": {},
   "outputs": [
    {
     "name": "stdout",
     "output_type": "stream",
     "text": [
      "The longest trip is 59857.57 minutes and the shortest trip is 0.0 minutes for 5197925 data points.\n"
     ]
    }
   ],
   "source": [
    "print(f'The longest trip is {tor_biking.trip_duration.max()} minutes and the shortest trip is {tor_biking.trip_duration.min()} minutes for {tor_biking.shape[0]} data points.')"
   ]
  },
  {
   "cell_type": "markdown",
   "id": "3284ddab",
   "metadata": {},
   "source": [
    "The maximum value seems to be outrageously high and could be the result of the bike being abandoned or not properly docked."
   ]
  },
  {
   "cell_type": "code",
   "execution_count": 6,
   "id": "9934b924",
   "metadata": {},
   "outputs": [
    {
     "name": "stdout",
     "output_type": "stream",
     "text": [
      "The mean for trip duration 15.91 minutes with the median 89.49 minutes. This shows that the overall distribution is skewed.\n"
     ]
    }
   ],
   "source": [
    "print(f\"The mean for trip duration {round(tor_biking.trip_duration.describe()[1], 2)} minutes with the median {round(tor_biking.trip_duration.describe()[2],2)} minutes. This shows that the overall distribution is skewed.\")"
   ]
  },
  {
   "cell_type": "markdown",
   "id": "8bc784a4",
   "metadata": {},
   "source": [
    "With a mean which is in low double digits and a median in high double digits, there is clearly a skew to the data. This incorporated with values that are as high as ~6000 minutes, we can set a threshold for what we consider to be too high of a value. Considering 24 hours is 1440 minutes, we can see how many bikes in the dataset were kept for longer than a day."
   ]
  },
  {
   "cell_type": "code",
   "execution_count": 7,
   "id": "82830e82",
   "metadata": {
    "scrolled": true
   },
   "outputs": [
    {
     "name": "stdout",
     "output_type": "stream",
     "text": [
      "There are 816 trips where the duration is longer than a day. This is just 0.0002% of the data.\n"
     ]
    }
   ],
   "source": [
    "print(f\"There are {tor_biking[tor_biking['trip_duration'] > 1440].shape[0]} trips where the duration is longer than a day. This is just {round(tor_biking[tor_biking['trip_duration'] > 1440].shape[0]/tor_biking['trip_duration'].shape[0],4)}% of the data.\")"
   ]
  },
  {
   "cell_type": "code",
   "execution_count": 8,
   "id": "3b7222ed",
   "metadata": {},
   "outputs": [],
   "source": [
    "# Import plotting libraries \n",
    "import matplotlib.pyplot as plt\n",
    "import seaborn as sns\n"
   ]
  },
  {
   "cell_type": "code",
   "execution_count": 9,
   "id": "bf19c737",
   "metadata": {},
   "outputs": [],
   "source": [
    "duration_less_than_eq_2h = tor_biking[tor_biking['trip_duration'] <= 120]\n",
    "duration_more_than_2h = tor_biking[tor_biking['trip_duration'] > 120]"
   ]
  },
  {
   "cell_type": "code",
   "execution_count": 10,
   "id": "ece772a9",
   "metadata": {},
   "outputs": [
    {
     "name": "stdout",
     "output_type": "stream",
     "text": [
      "There are 5176949 rows where the duration is more than or equal to 2 hours. Further there are 20976 rows where the duration is more than 2 hours\n"
     ]
    }
   ],
   "source": [
    "print(f\"There are {duration_less_than_eq_2h.shape[0]} rows where the duration is more than or equal to 2 hours. Further there are {duration_more_than_2h.shape[0]} rows where the duration is more than 2 hours\")"
   ]
  },
  {
   "cell_type": "code",
   "execution_count": 11,
   "id": "e42c4db8",
   "metadata": {},
   "outputs": [
    {
     "data": {
      "image/png": "[encoded data removed]",
      "text/plain": [
       "<Figure size 432x288 with 1 Axes>"
      ]
     },
     "metadata": {
      "needs_background": "light"
     },
     "output_type": "display_data"
    }
   ],
   "source": [
    "plt.figure()\n",
    "sns.histplot(tor_biking['trip_duration'], bins=50)\n",
    "plt.xlabel('Trip Duration (Minutes)')\n",
    "plt.yscale('log')\n",
    "plt.title('Logarithmic Distribution of Trip Duration')\n",
    "plt.show()"
   ]
  },
  {
   "cell_type": "code",
   "execution_count": null,
   "id": "044c9d46",
   "metadata": {},
   "outputs": [],
   "source": []
  },
  {
   "cell_type": "code",
   "execution_count": null,
   "id": "6f0d41cb",
   "metadata": {},
   "outputs": [],
   "source": []
  },
  {
   "cell_type": "code",
   "execution_count": null,
   "id": "3b64d81a",
   "metadata": {},
   "outputs": [],
   "source": []
  },
  {
   "cell_type": "code",
   "execution_count": null,
   "id": "5432257f",
   "metadata": {},
   "outputs": [],
   "source": []
  },
  {
   "cell_type": "markdown",
   "id": "38937dea",
   "metadata": {},
   "source": [
    "### Windows Functions Usage\n",
    "\n",
    "Using windows functions to look at end to start time lag and put a 1 in column if it's less than 1 minute. "
   ]
  },
  {
   "cell_type": "code",
   "execution_count": null,
   "id": "a7b2d17c",
   "metadata": {},
   "outputs": [],
   "source": []
  },
  {
   "cell_type": "code",
   "execution_count": null,
   "id": "7a412b27",
   "metadata": {},
   "outputs": [],
   "source": []
  },
  {
   "cell_type": "code",
   "execution_count": null,
   "id": "73dcf38a",
   "metadata": {},
   "outputs": [],
   "source": []
  },
  {
   "cell_type": "code",
   "execution_count": null,
   "id": "877536f4",
   "metadata": {},
   "outputs": [],
   "source": []
  },
  {
   "cell_type": "code",
   "execution_count": null,
   "id": "15882526",
   "metadata": {},
   "outputs": [],
   "source": []
  }
 ],
 "metadata": {
  "kernelspec": {
   "display_name": "Python 3 (ipykernel)",
   "language": "python",
   "name": "python3"
  },
  "language_info": {
   "codemirror_mode": {
    "name": "ipython",
    "version": 3
   },
   "file_extension": ".py",
   "mimetype": "text/x-python",
   "name": "python",
   "nbconvert_exporter": "python",
   "pygments_lexer": "ipython3",
   "version": "3.9.12"
  }
 },
 "nbformat": 4,
 "nbformat_minor": 5
}
