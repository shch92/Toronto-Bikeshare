{
 "cells": [
  {
   "cell_type": "markdown",
   "id": "d891c6c2",
   "metadata": {},
   "source": [
    "# Toronto Bikeshare Project - Exploratory Data Analysis"
   ]
  },
  {
   "cell_type": "markdown",
   "id": "5e24c50d",
   "metadata": {},
   "source": [
    "As mentioned in the first notebook `Toronto_Bikeshare_1_DataCleaning`, the Toronto Bikeshare Project aims to use open source data from [Toronto's Bikeshare Program](https://bikesharetoronto.com/pricing/?gclid=Cj0KCQiAz9ieBhCIARIsACB0oGIMFeM961gRm3NjO-8os2Q4FqV7dm4YVdArkEpCOa5caaQnc2nRWe4aAhUuEALw_wcB) and conduct Time Series as well as Network Analysis on it. The aim is to predict ridership changes on different temporal intervals as well as look at how ridership occurs for a potential bike from 1 station over a few days. These kind of analyses can assist with operational decisions for the organisation such as when to potentially increase bike availability in certain stops based on day or week or where additional stops can be added based on usage pattterns. \n",
    "\n",
    "In this notebook the cleaned data will be loaded and explored further to get potential insights that can assist with the modelling of data later. Let's start by loading the cleaned data from the previously exported csv file. "
   ]
  },
  {
   "cell_type": "code",
   "execution_count": 1,
   "id": "6f342199",
   "metadata": {},
   "outputs": [],
   "source": [
    "# import pandas to work with dataframes\n",
    "import pandas as pd\n",
    "\n",
    "\n",
    "date_cols = ['start_time','end_time']\n",
    "#import the data\n",
    "tor_biking = pd.read_csv(f'data/cleaned/cleaned.csv', index_col=0, parse_dates=date_cols)\n",
    "\n",
    "\n"
   ]
  },
  {
   "cell_type": "markdown",
   "id": "eb5dc7ba",
   "metadata": {},
   "source": [
    "After ensuring that the data is loaded correctly and the columns data types are preserved, we can continue exploring the different columns of the data. "
   ]
  },
  {
   "cell_type": "code",
   "execution_count": 2,
   "id": "8b64d085",
   "metadata": {},
   "outputs": [
    {
     "data": {
      "text/html": [
       "<div>\n",
       "<style scoped>\n",
       "    .dataframe tbody tr th:only-of-type {\n",
       "        vertical-align: middle;\n",
       "    }\n",
       "\n",
       "    .dataframe tbody tr th {\n",
       "        vertical-align: top;\n",
       "    }\n",
       "\n",
       "    .dataframe thead th {\n",
       "        text-align: right;\n",
       "    }\n",
       "</style>\n",
       "<table border=\"1\" class=\"dataframe\">\n",
       "  <thead>\n",
       "    <tr style=\"text-align: right;\">\n",
       "      <th></th>\n",
       "      <th>trip_id</th>\n",
       "      <th>trip_duration</th>\n",
       "      <th>start_station_id</th>\n",
       "      <th>start_time</th>\n",
       "      <th>start_station_name</th>\n",
       "      <th>end_station_id</th>\n",
       "      <th>end_time</th>\n",
       "      <th>end_station_name</th>\n",
       "      <th>bike_id</th>\n",
       "      <th>annual_member</th>\n",
       "    </tr>\n",
       "  </thead>\n",
       "  <tbody>\n",
       "    <tr>\n",
       "      <th>0</th>\n",
       "      <td>14805109</td>\n",
       "      <td>72.25</td>\n",
       "      <td>7334</td>\n",
       "      <td>2022-01-01 00:02:00</td>\n",
       "      <td>Simcoe St / Wellington St North</td>\n",
       "      <td>7269</td>\n",
       "      <td>2022-01-01 01:15:00</td>\n",
       "      <td>Toronto Eaton Centre (Yonge St)</td>\n",
       "      <td>5139</td>\n",
       "      <td>0</td>\n",
       "    </tr>\n",
       "    <tr>\n",
       "      <th>1</th>\n",
       "      <td>14805110</td>\n",
       "      <td>2.10</td>\n",
       "      <td>7443</td>\n",
       "      <td>2022-01-01 00:02:00</td>\n",
       "      <td>Dundas St E / George St</td>\n",
       "      <td>7270</td>\n",
       "      <td>2022-01-01 00:05:00</td>\n",
       "      <td>Church St / Dundas St E - SMART</td>\n",
       "      <td>3992</td>\n",
       "      <td>1</td>\n",
       "    </tr>\n",
       "    <tr>\n",
       "      <th>2</th>\n",
       "      <td>14805112</td>\n",
       "      <td>15.70</td>\n",
       "      <td>7399</td>\n",
       "      <td>2022-01-01 00:04:00</td>\n",
       "      <td>Lower Jarvis / Queens Quay E</td>\n",
       "      <td>7686</td>\n",
       "      <td>2022-01-01 00:19:00</td>\n",
       "      <td>7686</td>\n",
       "      <td>361</td>\n",
       "      <td>1</td>\n",
       "    </tr>\n",
       "    <tr>\n",
       "      <th>3</th>\n",
       "      <td>14805113</td>\n",
       "      <td>70.93</td>\n",
       "      <td>7334</td>\n",
       "      <td>2022-01-01 00:04:00</td>\n",
       "      <td>Simcoe St / Wellington St North</td>\n",
       "      <td>7269</td>\n",
       "      <td>2022-01-01 01:15:00</td>\n",
       "      <td>Toronto Eaton Centre (Yonge St)</td>\n",
       "      <td>4350</td>\n",
       "      <td>0</td>\n",
       "    </tr>\n",
       "    <tr>\n",
       "      <th>4</th>\n",
       "      <td>14805114</td>\n",
       "      <td>72.55</td>\n",
       "      <td>7334</td>\n",
       "      <td>2022-01-01 00:05:00</td>\n",
       "      <td>Simcoe St / Wellington St North</td>\n",
       "      <td>7038</td>\n",
       "      <td>2022-01-01 01:17:00</td>\n",
       "      <td>Dundas St W / Yonge St</td>\n",
       "      <td>5074</td>\n",
       "      <td>0</td>\n",
       "    </tr>\n",
       "  </tbody>\n",
       "</table>\n",
       "</div>"
      ],
      "text/plain": [
       "    trip_id  trip_duration  start_station_id          start_time  \\\n",
       "0  14805109          72.25              7334 2022-01-01 00:02:00   \n",
       "1  14805110           2.10              7443 2022-01-01 00:02:00   \n",
       "2  14805112          15.70              7399 2022-01-01 00:04:00   \n",
       "3  14805113          70.93              7334 2022-01-01 00:04:00   \n",
       "4  14805114          72.55              7334 2022-01-01 00:05:00   \n",
       "\n",
       "                start_station_name  end_station_id            end_time  \\\n",
       "0  Simcoe St / Wellington St North            7269 2022-01-01 01:15:00   \n",
       "1          Dundas St E / George St            7270 2022-01-01 00:05:00   \n",
       "2     Lower Jarvis / Queens Quay E            7686 2022-01-01 00:19:00   \n",
       "3  Simcoe St / Wellington St North            7269 2022-01-01 01:15:00   \n",
       "4  Simcoe St / Wellington St North            7038 2022-01-01 01:17:00   \n",
       "\n",
       "                  end_station_name  bike_id  annual_member  \n",
       "0  Toronto Eaton Centre (Yonge St)     5139              0  \n",
       "1  Church St / Dundas St E - SMART     3992              1  \n",
       "2                             7686      361              1  \n",
       "3  Toronto Eaton Centre (Yonge St)     4350              0  \n",
       "4           Dundas St W / Yonge St     5074              0  "
      ]
     },
     "execution_count": 2,
     "metadata": {},
     "output_type": "execute_result"
    }
   ],
   "source": [
    "tor_biking.head()"
   ]
  },
  {
   "cell_type": "markdown",
   "id": "04c3f26c",
   "metadata": {},
   "source": [
    "The data seems to display properly. "
   ]
  },
  {
   "cell_type": "code",
   "execution_count": 3,
   "id": "118940c9",
   "metadata": {},
   "outputs": [
    {
     "name": "stdout",
     "output_type": "stream",
     "text": [
      "<class 'pandas.core.frame.DataFrame'>\n",
      "Int64Index: 5197925 entries, 0 to 5197924\n",
      "Data columns (total 10 columns):\n",
      " #   Column              Dtype         \n",
      "---  ------              -----         \n",
      " 0   trip_id             int64         \n",
      " 1   trip_duration       float64       \n",
      " 2   start_station_id    int64         \n",
      " 3   start_time          datetime64[ns]\n",
      " 4   start_station_name  object        \n",
      " 5   end_station_id      int64         \n",
      " 6   end_time            datetime64[ns]\n",
      " 7   end_station_name    object        \n",
      " 8   bike_id             int64         \n",
      " 9   annual_member       int64         \n",
      "dtypes: datetime64[ns](2), float64(1), int64(5), object(2)\n",
      "memory usage: 436.2+ MB\n"
     ]
    }
   ],
   "source": [
    "tor_biking.info()"
   ]
  },
  {
   "cell_type": "markdown",
   "id": "2d4c8fe8",
   "metadata": {},
   "source": [
    "Seems like reloading the data has converted the datetime data to object. We will re-convert those columns."
   ]
  },
  {
   "cell_type": "markdown",
   "id": "66feb6bd",
   "metadata": {},
   "source": [
    "It looks, fine. A data dictionary is created below to better understand each column. The data contains the following columns.\n",
    "\n",
    "|Column Name   | Data Type | Column Description |   \n",
    "|:---|:---|:---|\n",
    "|  trip_id | int64  | Unique identification number for the trip  |\n",
    "|  trip__duration | float64 | Duration of the trip in minutes  |\n",
    "|  start_station_id | int64  |  Unique identification number for the station where the trip started|\n",
    "|  start_time\t | datetime64[ns] | Date and time in hours and minutes for the start time of the trip  |\n",
    "|  start_station_name\t| object |  Name of station where the trip started |\n",
    "|  end_station_id\t | int64  | Unique identification number for the station where the trip ended  |\n",
    "|  end_time\t| datetime64[ns] |  Date and time in hours and minutes for the end time of the trip |\n",
    "|  end_station_name | object |  Name of station where the trip ended |\n",
    "|  bike_id\t | int64  | Unique identification number for the bike used  |\n",
    "|  annual_member | int64  | Whether the user who undertook the trip in an Annual Member, with 1 denoting that the member is an annual number  |\n"
   ]
  },
  {
   "cell_type": "markdown",
   "id": "96a2ed07",
   "metadata": {},
   "source": [
    "The first column to explore will be `Trip Duration`.\n",
    "\n",
    "## Trip Duration\n",
    "\n",
    "The distribution of trips can tell us the overall ridership trends. However, to understand the ridership behaviour better, it would be vital to look at the membership and non-membership types as well as the associated pricing that Toronto bikeshare provides. \n",
    "\n",
    "\n",
    "At the time of this study there was a change in the pricing.\n",
    "\n",
    "**Before April 2023, there were 4 types of trips that could be taken:**\n",
    "- `Single Trip` for `$3.25`. Lasts up to 30 minutes in original payment.\n",
    "- `24 Hour Access Pass` for `$7`. Unlimited 30 minute trips for 24 hours.\n",
    "- `72 Hour Access Pass` for `$15`. Unlimited 30 minute trips for 72 hours.\n",
    "- `Annual 30 Membership` for `$99`. Unlimited 30 minute trips for a year.\n",
    "- `Annual 45 Membership` for `$115`. Unlimited 45 minute trips for a year.\n",
    "\n",
    "There were Overage Fees applied if the rider went above the required number of minutes. The overage fees pre-April 2023 can be found in the tables below.\n",
    "\n",
    "\n",
    "|   Annual 30 & Short Term Passes Trip Time   |   Overage Fees ($)   |\n",
    "|    :-:    |    :-:    |\n",
    "|    0:01 - 30:00\t|   0.00  \t|\n",
    "|   30:01 - 60:00 \t|   4.00\t|\n",
    "|   60:01 – 90:00   |   8.00\t|\n",
    "|   90:01 – 120:00 \t|   12.00\t|\n",
    "|   120:01 – 150:00\t|   16.00\t|\n",
    "|   150:01 – 180:00\t|   20.00\t|\n",
    "\n",
    "\n",
    "\n",
    "|   Annual 45 Membership Trip Time   |   Overage Fees ($)   |\n",
    "|    :-:    |    :-:    |\n",
    "|    0:01 – 45:00\t|   0.00  \t|\n",
    "|   45:01 – 75:00 \t|   4.00\t|\n",
    "|   75:01 – 105:00  |   8.00\t|\n",
    "|   105:01 – 135:00 |   12.00\t|\n",
    "|   135:01 – 165:00\t|   16.00\t|\n",
    "|   165:01 – 195:00\t|   20.00\t|\n"
   ]
  },
  {
   "cell_type": "markdown",
   "id": "829c7c0c",
   "metadata": {},
   "source": [
    "**We can also see how the pricing changed post April 3rd 2023.**\n",
    "\n",
    "We can see the [membership and non-membership types as well as the associated pricing](https://bikesharetoronto.com/pricing/?gclid=CjwKCAiAxP2eBhBiEiwA5puhNc7wMh_IeT4mBU3r_HZMTHb_ehtGvQ_P_ghRDR2HPL-eQ50tZ76w8hoCNiMQAvD_BwE) that Toronto bikeshare provides. At the time of this study (May\n",
    "2023), there are 4 types of trips that can be taken:\n",
    "- `Pay As You Go Pass` `$1` charge to unlock the bike followed by:\n",
    "    - `$0.12/minute` for classic bikes or\n",
    "    - `$0.20/minute` for e-bikes\n",
    "    \n",
    "    \n",
    "- `Day Pass` for `$15`. Unlimited 90 minute rides on a classic bike for 24 hours.\n",
    "\n",
    "\n",
    "- `Annual 30 Membership` for `$105`. Unlimited 30 minute trips for a year.\n",
    "    - `50%` off e-bike per minute rate `($0.10/min)`\n",
    "    - No unlock fees\n",
    "    \n",
    "    \n",
    "- `Annual 45 Membership` for `$120`. Unlimited 45 minute trips for a year.\n",
    "    - `50%` off e-bike per minute rate `($0.10/min)`\n",
    "    - No unlock fees\n",
    "\n",
    "\n",
    "There are Overage Fees applied if the rider goes above the require number of minutes. The overage fees can be found in the tables below.\n",
    "\n",
    "\n",
    "|   Annual 30 & 45 Term Passes Trip Time   |   Overage Fees ($)   |\n",
    "|    :-:    |    :-:    |\n",
    "|   30:01 Onwards|    0.12 per minute\t|\n",
    "\n",
    "\n",
    "This information can therefore assist us in looking at the distribution of rides. Let's start by looking at the descriptive statistics for `Trip Duration` below. "
   ]
  },
  {
   "cell_type": "code",
   "execution_count": 4,
   "id": "37c9b10c",
   "metadata": {},
   "outputs": [
    {
     "data": {
      "text/html": [
       "<div>\n",
       "<style scoped>\n",
       "    .dataframe tbody tr th:only-of-type {\n",
       "        vertical-align: middle;\n",
       "    }\n",
       "\n",
       "    .dataframe tbody tr th {\n",
       "        vertical-align: top;\n",
       "    }\n",
       "\n",
       "    .dataframe thead th {\n",
       "        text-align: right;\n",
       "    }\n",
       "</style>\n",
       "<table border=\"1\" class=\"dataframe\">\n",
       "  <thead>\n",
       "    <tr style=\"text-align: right;\">\n",
       "      <th></th>\n",
       "      <th>trip_id</th>\n",
       "      <th>trip_duration</th>\n",
       "      <th>start_station_id</th>\n",
       "      <th>end_station_id</th>\n",
       "      <th>bike_id</th>\n",
       "      <th>annual_member</th>\n",
       "    </tr>\n",
       "  </thead>\n",
       "  <tbody>\n",
       "    <tr>\n",
       "      <th>count</th>\n",
       "      <td>5.197925e+06</td>\n",
       "      <td>5.197925e+06</td>\n",
       "      <td>5.197925e+06</td>\n",
       "      <td>5.197925e+06</td>\n",
       "      <td>5.197925e+06</td>\n",
       "      <td>5.197925e+06</td>\n",
       "    </tr>\n",
       "    <tr>\n",
       "      <th>mean</th>\n",
       "      <td>1.783254e+07</td>\n",
       "      <td>1.591296e+01</td>\n",
       "      <td>7.275418e+03</td>\n",
       "      <td>7.273102e+03</td>\n",
       "      <td>3.839426e+03</td>\n",
       "      <td>3.624496e-01</td>\n",
       "    </tr>\n",
       "    <tr>\n",
       "      <th>std</th>\n",
       "      <td>1.721669e+06</td>\n",
       "      <td>8.948605e+01</td>\n",
       "      <td>2.021399e+02</td>\n",
       "      <td>2.074155e+02</td>\n",
       "      <td>2.057616e+03</td>\n",
       "      <td>4.807077e-01</td>\n",
       "    </tr>\n",
       "    <tr>\n",
       "      <th>min</th>\n",
       "      <td>1.480511e+07</td>\n",
       "      <td>0.000000e+00</td>\n",
       "      <td>7.000000e+03</td>\n",
       "      <td>7.000000e+03</td>\n",
       "      <td>1.400000e+01</td>\n",
       "      <td>0.000000e+00</td>\n",
       "    </tr>\n",
       "    <tr>\n",
       "      <th>25%</th>\n",
       "      <td>1.634749e+07</td>\n",
       "      <td>7.080000e+00</td>\n",
       "      <td>7.095000e+03</td>\n",
       "      <td>7.089000e+03</td>\n",
       "      <td>2.141000e+03</td>\n",
       "      <td>0.000000e+00</td>\n",
       "    </tr>\n",
       "    <tr>\n",
       "      <th>50%</th>\n",
       "      <td>1.784270e+07</td>\n",
       "      <td>1.170000e+01</td>\n",
       "      <td>7.250000e+03</td>\n",
       "      <td>7.247000e+03</td>\n",
       "      <td>3.990000e+03</td>\n",
       "      <td>0.000000e+00</td>\n",
       "    </tr>\n",
       "    <tr>\n",
       "      <th>75%</th>\n",
       "      <td>1.931861e+07</td>\n",
       "      <td>1.875000e+01</td>\n",
       "      <td>7.422000e+03</td>\n",
       "      <td>7.419000e+03</td>\n",
       "      <td>5.638000e+03</td>\n",
       "      <td>1.000000e+00</td>\n",
       "    </tr>\n",
       "    <tr>\n",
       "      <th>max</th>\n",
       "      <td>2.080958e+07</td>\n",
       "      <td>5.985757e+04</td>\n",
       "      <td>7.772000e+03</td>\n",
       "      <td>9.999000e+03</td>\n",
       "      <td>7.263000e+03</td>\n",
       "      <td>1.000000e+00</td>\n",
       "    </tr>\n",
       "  </tbody>\n",
       "</table>\n",
       "</div>"
      ],
      "text/plain": [
       "            trip_id  trip_duration  start_station_id  end_station_id  \\\n",
       "count  5.197925e+06   5.197925e+06      5.197925e+06    5.197925e+06   \n",
       "mean   1.783254e+07   1.591296e+01      7.275418e+03    7.273102e+03   \n",
       "std    1.721669e+06   8.948605e+01      2.021399e+02    2.074155e+02   \n",
       "min    1.480511e+07   0.000000e+00      7.000000e+03    7.000000e+03   \n",
       "25%    1.634749e+07   7.080000e+00      7.095000e+03    7.089000e+03   \n",
       "50%    1.784270e+07   1.170000e+01      7.250000e+03    7.247000e+03   \n",
       "75%    1.931861e+07   1.875000e+01      7.422000e+03    7.419000e+03   \n",
       "max    2.080958e+07   5.985757e+04      7.772000e+03    9.999000e+03   \n",
       "\n",
       "            bike_id  annual_member  \n",
       "count  5.197925e+06   5.197925e+06  \n",
       "mean   3.839426e+03   3.624496e-01  \n",
       "std    2.057616e+03   4.807077e-01  \n",
       "min    1.400000e+01   0.000000e+00  \n",
       "25%    2.141000e+03   0.000000e+00  \n",
       "50%    3.990000e+03   0.000000e+00  \n",
       "75%    5.638000e+03   1.000000e+00  \n",
       "max    7.263000e+03   1.000000e+00  "
      ]
     },
     "execution_count": 4,
     "metadata": {},
     "output_type": "execute_result"
    }
   ],
   "source": [
    "tor_biking.describe()"
   ]
  },
  {
   "cell_type": "code",
   "execution_count": 5,
   "id": "9c022c8f",
   "metadata": {},
   "outputs": [
    {
     "name": "stdout",
     "output_type": "stream",
     "text": [
      "The longest trip is 59857.57 minutes and the shortest trip is \n"
     ]
    }
   ],
   "source": [
    "print(f'The longest trip is {tor_biking.trip_duration.max()} minutes and the shortest trip is ')"
   ]
  },
  {
   "cell_type": "markdown",
   "id": "c332c116",
   "metadata": {},
   "source": [
    "The count for `Trip Duration` shows that (as expected) there are ~5.2 million data points available. The minimum ride duration is 0 seconds (as it's 0.0000 minutes) while the maximum ride duration is 59857.57 minutes. This value seems to be outrageously high and likely the result of the bike being abandoned somewhere. Considering there are quite steep overage fees applied. \n",
    "\n",
    "The mean is ~16 minutes with the median being ~ 12 minutes. This shows that the overall distribution is skewed. Let's try to visualize this below."
   ]
  },
  {
   "cell_type": "code",
   "execution_count": null,
   "id": "0bebc618",
   "metadata": {},
   "outputs": [],
   "source": []
  },
  {
   "cell_type": "code",
   "execution_count": null,
   "id": "3b7222ed",
   "metadata": {},
   "outputs": [],
   "source": [
    "import matplotlib.pyplot as plt\n",
    "import seaborn as sns\n"
   ]
  },
  {
   "cell_type": "code",
   "execution_count": 8,
   "id": "e42c4db8",
   "metadata": {},
   "outputs": [
    {
     "ename": "KeyboardInterrupt",
     "evalue": "",
     "output_type": "error",
     "traceback": [
      "\u001b[0;31m---------------------------------------------------------------------------\u001b[0m",
      "\u001b[0;31mKeyboardInterrupt\u001b[0m                         Traceback (most recent call last)",
      "Input \u001b[0;32mIn [8]\u001b[0m, in \u001b[0;36m<cell line: 6>\u001b[0;34m()\u001b[0m\n\u001b[1;32m      4\u001b[0m plt\u001b[38;5;241m.\u001b[39mfigure()\n\u001b[1;32m      5\u001b[0m sns\u001b[38;5;241m.\u001b[39mhistplot(tor_biking[\u001b[38;5;124m'\u001b[39m\u001b[38;5;124mtrip_duration\u001b[39m\u001b[38;5;124m'\u001b[39m])\n\u001b[0;32m----> 6\u001b[0m \u001b[43mplt\u001b[49m\u001b[38;5;241;43m.\u001b[39;49m\u001b[43mshow\u001b[49m\u001b[43m(\u001b[49m\u001b[43m)\u001b[49m\n",
      "File \u001b[0;32m~/opt/anaconda3/lib/python3.9/site-packages/matplotlib/pyplot.py:368\u001b[0m, in \u001b[0;36mshow\u001b[0;34m(*args, **kwargs)\u001b[0m\n\u001b[1;32m    324\u001b[0m \u001b[38;5;124;03m\"\"\"\u001b[39;00m\n\u001b[1;32m    325\u001b[0m \u001b[38;5;124;03mDisplay all open figures.\u001b[39;00m\n\u001b[1;32m    326\u001b[0m \n\u001b[0;32m   (...)\u001b[0m\n\u001b[1;32m    365\u001b[0m \u001b[38;5;124;03mexplicitly there.\u001b[39;00m\n\u001b[1;32m    366\u001b[0m \u001b[38;5;124;03m\"\"\"\u001b[39;00m\n\u001b[1;32m    367\u001b[0m _warn_if_gui_out_of_main_thread()\n\u001b[0;32m--> 368\u001b[0m \u001b[38;5;28;01mreturn\u001b[39;00m \u001b[43m_backend_mod\u001b[49m\u001b[38;5;241;43m.\u001b[39;49m\u001b[43mshow\u001b[49m\u001b[43m(\u001b[49m\u001b[38;5;241;43m*\u001b[39;49m\u001b[43margs\u001b[49m\u001b[43m,\u001b[49m\u001b[43m \u001b[49m\u001b[38;5;241;43m*\u001b[39;49m\u001b[38;5;241;43m*\u001b[39;49m\u001b[43mkwargs\u001b[49m\u001b[43m)\u001b[49m\n",
      "File \u001b[0;32m~/opt/anaconda3/lib/python3.9/site-packages/matplotlib_inline/backend_inline.py:41\u001b[0m, in \u001b[0;36mshow\u001b[0;34m(close, block)\u001b[0m\n\u001b[1;32m     39\u001b[0m \u001b[38;5;28;01mtry\u001b[39;00m:\n\u001b[1;32m     40\u001b[0m     \u001b[38;5;28;01mfor\u001b[39;00m figure_manager \u001b[38;5;129;01min\u001b[39;00m Gcf\u001b[38;5;241m.\u001b[39mget_all_fig_managers():\n\u001b[0;32m---> 41\u001b[0m         \u001b[43mdisplay\u001b[49m\u001b[43m(\u001b[49m\n\u001b[1;32m     42\u001b[0m \u001b[43m            \u001b[49m\u001b[43mfigure_manager\u001b[49m\u001b[38;5;241;43m.\u001b[39;49m\u001b[43mcanvas\u001b[49m\u001b[38;5;241;43m.\u001b[39;49m\u001b[43mfigure\u001b[49m\u001b[43m,\u001b[49m\n\u001b[1;32m     43\u001b[0m \u001b[43m            \u001b[49m\u001b[43mmetadata\u001b[49m\u001b[38;5;241;43m=\u001b[39;49m\u001b[43m_fetch_figure_metadata\u001b[49m\u001b[43m(\u001b[49m\u001b[43mfigure_manager\u001b[49m\u001b[38;5;241;43m.\u001b[39;49m\u001b[43mcanvas\u001b[49m\u001b[38;5;241;43m.\u001b[39;49m\u001b[43mfigure\u001b[49m\u001b[43m)\u001b[49m\n\u001b[1;32m     44\u001b[0m \u001b[43m        \u001b[49m\u001b[43m)\u001b[49m\n\u001b[1;32m     45\u001b[0m \u001b[38;5;28;01mfinally\u001b[39;00m:\n\u001b[1;32m     46\u001b[0m     show\u001b[38;5;241m.\u001b[39m_to_draw \u001b[38;5;241m=\u001b[39m []\n",
      "File \u001b[0;32m~/opt/anaconda3/lib/python3.9/site-packages/IPython/core/display_functions.py:298\u001b[0m, in \u001b[0;36mdisplay\u001b[0;34m(include, exclude, metadata, transient, display_id, raw, clear, *objs, **kwargs)\u001b[0m\n\u001b[1;32m    296\u001b[0m     publish_display_data(data\u001b[38;5;241m=\u001b[39mobj, metadata\u001b[38;5;241m=\u001b[39mmetadata, \u001b[38;5;241m*\u001b[39m\u001b[38;5;241m*\u001b[39mkwargs)\n\u001b[1;32m    297\u001b[0m \u001b[38;5;28;01melse\u001b[39;00m:\n\u001b[0;32m--> 298\u001b[0m     format_dict, md_dict \u001b[38;5;241m=\u001b[39m \u001b[38;5;28;43mformat\u001b[39;49m\u001b[43m(\u001b[49m\u001b[43mobj\u001b[49m\u001b[43m,\u001b[49m\u001b[43m \u001b[49m\u001b[43minclude\u001b[49m\u001b[38;5;241;43m=\u001b[39;49m\u001b[43minclude\u001b[49m\u001b[43m,\u001b[49m\u001b[43m \u001b[49m\u001b[43mexclude\u001b[49m\u001b[38;5;241;43m=\u001b[39;49m\u001b[43mexclude\u001b[49m\u001b[43m)\u001b[49m\n\u001b[1;32m    299\u001b[0m     \u001b[38;5;28;01mif\u001b[39;00m \u001b[38;5;129;01mnot\u001b[39;00m format_dict:\n\u001b[1;32m    300\u001b[0m         \u001b[38;5;66;03m# nothing to display (e.g. _ipython_display_ took over)\u001b[39;00m\n\u001b[1;32m    301\u001b[0m         \u001b[38;5;28;01mcontinue\u001b[39;00m\n",
      "File \u001b[0;32m~/opt/anaconda3/lib/python3.9/site-packages/IPython/core/formatters.py:178\u001b[0m, in \u001b[0;36mDisplayFormatter.format\u001b[0;34m(self, obj, include, exclude)\u001b[0m\n\u001b[1;32m    176\u001b[0m md \u001b[38;5;241m=\u001b[39m \u001b[38;5;28;01mNone\u001b[39;00m\n\u001b[1;32m    177\u001b[0m \u001b[38;5;28;01mtry\u001b[39;00m:\n\u001b[0;32m--> 178\u001b[0m     data \u001b[38;5;241m=\u001b[39m \u001b[43mformatter\u001b[49m\u001b[43m(\u001b[49m\u001b[43mobj\u001b[49m\u001b[43m)\u001b[49m\n\u001b[1;32m    179\u001b[0m \u001b[38;5;28;01mexcept\u001b[39;00m:\n\u001b[1;32m    180\u001b[0m     \u001b[38;5;66;03m# FIXME: log the exception\u001b[39;00m\n\u001b[1;32m    181\u001b[0m     \u001b[38;5;28;01mraise\u001b[39;00m\n",
      "File \u001b[0;32m~/opt/anaconda3/lib/python3.9/site-packages/decorator.py:232\u001b[0m, in \u001b[0;36mdecorate.<locals>.fun\u001b[0;34m(*args, **kw)\u001b[0m\n\u001b[1;32m    230\u001b[0m \u001b[38;5;28;01mif\u001b[39;00m \u001b[38;5;129;01mnot\u001b[39;00m kwsyntax:\n\u001b[1;32m    231\u001b[0m     args, kw \u001b[38;5;241m=\u001b[39m fix(args, kw, sig)\n\u001b[0;32m--> 232\u001b[0m \u001b[38;5;28;01mreturn\u001b[39;00m \u001b[43mcaller\u001b[49m\u001b[43m(\u001b[49m\u001b[43mfunc\u001b[49m\u001b[43m,\u001b[49m\u001b[43m \u001b[49m\u001b[38;5;241;43m*\u001b[39;49m\u001b[43m(\u001b[49m\u001b[43mextras\u001b[49m\u001b[43m \u001b[49m\u001b[38;5;241;43m+\u001b[39;49m\u001b[43m \u001b[49m\u001b[43margs\u001b[49m\u001b[43m)\u001b[49m\u001b[43m,\u001b[49m\u001b[43m \u001b[49m\u001b[38;5;241;43m*\u001b[39;49m\u001b[38;5;241;43m*\u001b[39;49m\u001b[43mkw\u001b[49m\u001b[43m)\u001b[49m\n",
      "File \u001b[0;32m~/opt/anaconda3/lib/python3.9/site-packages/IPython/core/formatters.py:222\u001b[0m, in \u001b[0;36mcatch_format_error\u001b[0;34m(method, self, *args, **kwargs)\u001b[0m\n\u001b[1;32m    220\u001b[0m \u001b[38;5;124;03m\"\"\"show traceback on failed format call\"\"\"\u001b[39;00m\n\u001b[1;32m    221\u001b[0m \u001b[38;5;28;01mtry\u001b[39;00m:\n\u001b[0;32m--> 222\u001b[0m     r \u001b[38;5;241m=\u001b[39m \u001b[43mmethod\u001b[49m\u001b[43m(\u001b[49m\u001b[38;5;28;43mself\u001b[39;49m\u001b[43m,\u001b[49m\u001b[43m \u001b[49m\u001b[38;5;241;43m*\u001b[39;49m\u001b[43margs\u001b[49m\u001b[43m,\u001b[49m\u001b[43m \u001b[49m\u001b[38;5;241;43m*\u001b[39;49m\u001b[38;5;241;43m*\u001b[39;49m\u001b[43mkwargs\u001b[49m\u001b[43m)\u001b[49m\n\u001b[1;32m    223\u001b[0m \u001b[38;5;28;01mexcept\u001b[39;00m \u001b[38;5;167;01mNotImplementedError\u001b[39;00m:\n\u001b[1;32m    224\u001b[0m     \u001b[38;5;66;03m# don't warn on NotImplementedErrors\u001b[39;00m\n\u001b[1;32m    225\u001b[0m     \u001b[38;5;28;01mreturn\u001b[39;00m \u001b[38;5;28mself\u001b[39m\u001b[38;5;241m.\u001b[39m_check_return(\u001b[38;5;28;01mNone\u001b[39;00m, args[\u001b[38;5;241m0\u001b[39m])\n",
      "File \u001b[0;32m~/opt/anaconda3/lib/python3.9/site-packages/IPython/core/formatters.py:339\u001b[0m, in \u001b[0;36mBaseFormatter.__call__\u001b[0;34m(self, obj)\u001b[0m\n\u001b[1;32m    337\u001b[0m     \u001b[38;5;28;01mpass\u001b[39;00m\n\u001b[1;32m    338\u001b[0m \u001b[38;5;28;01melse\u001b[39;00m:\n\u001b[0;32m--> 339\u001b[0m     \u001b[38;5;28;01mreturn\u001b[39;00m \u001b[43mprinter\u001b[49m\u001b[43m(\u001b[49m\u001b[43mobj\u001b[49m\u001b[43m)\u001b[49m\n\u001b[1;32m    340\u001b[0m \u001b[38;5;66;03m# Finally look for special method names\u001b[39;00m\n\u001b[1;32m    341\u001b[0m method \u001b[38;5;241m=\u001b[39m get_real_method(obj, \u001b[38;5;28mself\u001b[39m\u001b[38;5;241m.\u001b[39mprint_method)\n",
      "File \u001b[0;32m~/opt/anaconda3/lib/python3.9/site-packages/IPython/core/pylabtools.py:151\u001b[0m, in \u001b[0;36mprint_figure\u001b[0;34m(fig, fmt, bbox_inches, base64, **kwargs)\u001b[0m\n\u001b[1;32m    148\u001b[0m     \u001b[38;5;28;01mfrom\u001b[39;00m \u001b[38;5;21;01mmatplotlib\u001b[39;00m\u001b[38;5;21;01m.\u001b[39;00m\u001b[38;5;21;01mbackend_bases\u001b[39;00m \u001b[38;5;28;01mimport\u001b[39;00m FigureCanvasBase\n\u001b[1;32m    149\u001b[0m     FigureCanvasBase(fig)\n\u001b[0;32m--> 151\u001b[0m \u001b[43mfig\u001b[49m\u001b[38;5;241;43m.\u001b[39;49m\u001b[43mcanvas\u001b[49m\u001b[38;5;241;43m.\u001b[39;49m\u001b[43mprint_figure\u001b[49m\u001b[43m(\u001b[49m\u001b[43mbytes_io\u001b[49m\u001b[43m,\u001b[49m\u001b[43m \u001b[49m\u001b[38;5;241;43m*\u001b[39;49m\u001b[38;5;241;43m*\u001b[39;49m\u001b[43mkw\u001b[49m\u001b[43m)\u001b[49m\n\u001b[1;32m    152\u001b[0m data \u001b[38;5;241m=\u001b[39m bytes_io\u001b[38;5;241m.\u001b[39mgetvalue()\n\u001b[1;32m    153\u001b[0m \u001b[38;5;28;01mif\u001b[39;00m fmt \u001b[38;5;241m==\u001b[39m \u001b[38;5;124m'\u001b[39m\u001b[38;5;124msvg\u001b[39m\u001b[38;5;124m'\u001b[39m:\n",
      "File \u001b[0;32m~/opt/anaconda3/lib/python3.9/site-packages/matplotlib/backend_bases.py:2299\u001b[0m, in \u001b[0;36mFigureCanvasBase.print_figure\u001b[0;34m(self, filename, dpi, facecolor, edgecolor, orientation, format, bbox_inches, pad_inches, bbox_extra_artists, backend, **kwargs)\u001b[0m\n\u001b[1;32m   2297\u001b[0m \u001b[38;5;28;01mif\u001b[39;00m bbox_inches:\n\u001b[1;32m   2298\u001b[0m     \u001b[38;5;28;01mif\u001b[39;00m bbox_inches \u001b[38;5;241m==\u001b[39m \u001b[38;5;124m\"\u001b[39m\u001b[38;5;124mtight\u001b[39m\u001b[38;5;124m\"\u001b[39m:\n\u001b[0;32m-> 2299\u001b[0m         bbox_inches \u001b[38;5;241m=\u001b[39m \u001b[38;5;28;43mself\u001b[39;49m\u001b[38;5;241;43m.\u001b[39;49m\u001b[43mfigure\u001b[49m\u001b[38;5;241;43m.\u001b[39;49m\u001b[43mget_tightbbox\u001b[49m\u001b[43m(\u001b[49m\n\u001b[1;32m   2300\u001b[0m \u001b[43m            \u001b[49m\u001b[43mrenderer\u001b[49m\u001b[43m,\u001b[49m\u001b[43m \u001b[49m\u001b[43mbbox_extra_artists\u001b[49m\u001b[38;5;241;43m=\u001b[39;49m\u001b[43mbbox_extra_artists\u001b[49m\u001b[43m)\u001b[49m\n\u001b[1;32m   2301\u001b[0m         \u001b[38;5;28;01mif\u001b[39;00m pad_inches \u001b[38;5;129;01mis\u001b[39;00m \u001b[38;5;28;01mNone\u001b[39;00m:\n\u001b[1;32m   2302\u001b[0m             pad_inches \u001b[38;5;241m=\u001b[39m rcParams[\u001b[38;5;124m'\u001b[39m\u001b[38;5;124msavefig.pad_inches\u001b[39m\u001b[38;5;124m'\u001b[39m]\n",
      "File \u001b[0;32m~/opt/anaconda3/lib/python3.9/site-packages/matplotlib/figure.py:1632\u001b[0m, in \u001b[0;36mFigureBase.get_tightbbox\u001b[0;34m(self, renderer, bbox_extra_artists)\u001b[0m\n\u001b[1;32m   1629\u001b[0m     artists \u001b[38;5;241m=\u001b[39m bbox_extra_artists\n\u001b[1;32m   1631\u001b[0m \u001b[38;5;28;01mfor\u001b[39;00m a \u001b[38;5;129;01min\u001b[39;00m artists:\n\u001b[0;32m-> 1632\u001b[0m     bbox \u001b[38;5;241m=\u001b[39m \u001b[43ma\u001b[49m\u001b[38;5;241;43m.\u001b[39;49m\u001b[43mget_tightbbox\u001b[49m\u001b[43m(\u001b[49m\u001b[43mrenderer\u001b[49m\u001b[43m)\u001b[49m\n\u001b[1;32m   1633\u001b[0m     \u001b[38;5;28;01mif\u001b[39;00m bbox \u001b[38;5;129;01mis\u001b[39;00m \u001b[38;5;129;01mnot\u001b[39;00m \u001b[38;5;28;01mNone\u001b[39;00m \u001b[38;5;129;01mand\u001b[39;00m (bbox\u001b[38;5;241m.\u001b[39mwidth \u001b[38;5;241m!=\u001b[39m \u001b[38;5;241m0\u001b[39m \u001b[38;5;129;01mor\u001b[39;00m bbox\u001b[38;5;241m.\u001b[39mheight \u001b[38;5;241m!=\u001b[39m \u001b[38;5;241m0\u001b[39m):\n\u001b[1;32m   1634\u001b[0m         bb\u001b[38;5;241m.\u001b[39mappend(bbox)\n",
      "File \u001b[0;32m~/opt/anaconda3/lib/python3.9/site-packages/matplotlib/axes/_base.py:4660\u001b[0m, in \u001b[0;36m_AxesBase.get_tightbbox\u001b[0;34m(self, renderer, call_axes_locator, bbox_extra_artists, for_layout_only)\u001b[0m\n\u001b[1;32m   4658\u001b[0m clip_extent \u001b[38;5;241m=\u001b[39m a\u001b[38;5;241m.\u001b[39m_get_clipping_extent_bbox()\n\u001b[1;32m   4659\u001b[0m \u001b[38;5;28;01mif\u001b[39;00m clip_extent \u001b[38;5;129;01mis\u001b[39;00m \u001b[38;5;129;01mnot\u001b[39;00m \u001b[38;5;28;01mNone\u001b[39;00m:\n\u001b[0;32m-> 4660\u001b[0m     clip_extent \u001b[38;5;241m=\u001b[39m \u001b[43mmtransforms\u001b[49m\u001b[38;5;241;43m.\u001b[39;49m\u001b[43mBbox\u001b[49m\u001b[38;5;241;43m.\u001b[39;49m\u001b[43mintersection\u001b[49m\u001b[43m(\u001b[49m\n\u001b[1;32m   4661\u001b[0m \u001b[43m        \u001b[49m\u001b[43mclip_extent\u001b[49m\u001b[43m,\u001b[49m\u001b[43m \u001b[49m\u001b[43maxbbox\u001b[49m\u001b[43m)\u001b[49m\n\u001b[1;32m   4662\u001b[0m     \u001b[38;5;28;01mif\u001b[39;00m np\u001b[38;5;241m.\u001b[39mall(clip_extent\u001b[38;5;241m.\u001b[39mextents \u001b[38;5;241m==\u001b[39m axbbox\u001b[38;5;241m.\u001b[39mextents):\n\u001b[1;32m   4663\u001b[0m         \u001b[38;5;66;03m# clip extent is inside the Axes bbox so don't check\u001b[39;00m\n\u001b[1;32m   4664\u001b[0m         \u001b[38;5;66;03m# this artist\u001b[39;00m\n\u001b[1;32m   4665\u001b[0m         \u001b[38;5;28;01mcontinue\u001b[39;00m\n",
      "File \u001b[0;32m~/opt/anaconda3/lib/python3.9/site-packages/matplotlib/transforms.py:681\u001b[0m, in \u001b[0;36mBboxBase.intersection\u001b[0;34m(bbox1, bbox2)\u001b[0m\n\u001b[1;32m    679\u001b[0m x0 \u001b[38;5;241m=\u001b[39m np\u001b[38;5;241m.\u001b[39mmaximum(bbox1\u001b[38;5;241m.\u001b[39mxmin, bbox2\u001b[38;5;241m.\u001b[39mxmin)\n\u001b[1;32m    680\u001b[0m x1 \u001b[38;5;241m=\u001b[39m np\u001b[38;5;241m.\u001b[39mminimum(bbox1\u001b[38;5;241m.\u001b[39mxmax, bbox2\u001b[38;5;241m.\u001b[39mxmax)\n\u001b[0;32m--> 681\u001b[0m y0 \u001b[38;5;241m=\u001b[39m \u001b[43mnp\u001b[49m\u001b[38;5;241;43m.\u001b[39;49m\u001b[43mmaximum\u001b[49m\u001b[43m(\u001b[49m\u001b[43mbbox1\u001b[49m\u001b[38;5;241;43m.\u001b[39;49m\u001b[43mymin\u001b[49m\u001b[43m,\u001b[49m\u001b[43m \u001b[49m\u001b[43mbbox2\u001b[49m\u001b[38;5;241;43m.\u001b[39;49m\u001b[43mymin\u001b[49m\u001b[43m)\u001b[49m\n\u001b[1;32m    682\u001b[0m y1 \u001b[38;5;241m=\u001b[39m np\u001b[38;5;241m.\u001b[39mminimum(bbox1\u001b[38;5;241m.\u001b[39mymax, bbox2\u001b[38;5;241m.\u001b[39mymax)\n\u001b[1;32m    683\u001b[0m \u001b[38;5;28;01mreturn\u001b[39;00m Bbox([[x0, y0], [x1, y1]]) \u001b[38;5;28;01mif\u001b[39;00m x0 \u001b[38;5;241m<\u001b[39m\u001b[38;5;241m=\u001b[39m x1 \u001b[38;5;129;01mand\u001b[39;00m y0 \u001b[38;5;241m<\u001b[39m\u001b[38;5;241m=\u001b[39m y1 \u001b[38;5;28;01melse\u001b[39;00m \u001b[38;5;28;01mNone\u001b[39;00m\n",
      "\u001b[0;31mKeyboardInterrupt\u001b[0m: "
     ]
    }
   ],
   "source": [
    "import matplotlib.pyplot as plt\n",
    "import seaborn as sns\n",
    "\n",
    "plt.figure()\n",
    "sns.histplot(tor_biking['trip_duration'])\n",
    "plt.show()"
   ]
  },
  {
   "cell_type": "code",
   "execution_count": null,
   "id": "0a68d245",
   "metadata": {},
   "outputs": [],
   "source": []
  },
  {
   "cell_type": "code",
   "execution_count": null,
   "id": "044c9d46",
   "metadata": {},
   "outputs": [],
   "source": []
  },
  {
   "cell_type": "code",
   "execution_count": null,
   "id": "6f0d41cb",
   "metadata": {},
   "outputs": [],
   "source": []
  },
  {
   "cell_type": "code",
   "execution_count": null,
   "id": "3b64d81a",
   "metadata": {},
   "outputs": [],
   "source": []
  },
  {
   "cell_type": "code",
   "execution_count": null,
   "id": "5432257f",
   "metadata": {},
   "outputs": [],
   "source": []
  },
  {
   "cell_type": "markdown",
   "id": "38937dea",
   "metadata": {},
   "source": [
    "### Windows Functions Usage\n",
    "\n",
    "Using windows functions to look at end to start time lag and put a 1 in column if it's less than 1 minute. "
   ]
  },
  {
   "cell_type": "code",
   "execution_count": null,
   "id": "a7b2d17c",
   "metadata": {},
   "outputs": [],
   "source": []
  },
  {
   "cell_type": "code",
   "execution_count": null,
   "id": "7a412b27",
   "metadata": {},
   "outputs": [],
   "source": []
  },
  {
   "cell_type": "code",
   "execution_count": null,
   "id": "73dcf38a",
   "metadata": {},
   "outputs": [],
   "source": []
  },
  {
   "cell_type": "code",
   "execution_count": null,
   "id": "877536f4",
   "metadata": {},
   "outputs": [],
   "source": []
  },
  {
   "cell_type": "code",
   "execution_count": null,
   "id": "15882526",
   "metadata": {},
   "outputs": [],
   "source": []
  }
 ],
 "metadata": {
  "kernelspec": {
   "display_name": "Python 3 (ipykernel)",
   "language": "python",
   "name": "python3"
  },
  "language_info": {
   "codemirror_mode": {
    "name": "ipython",
    "version": 3
   },
   "file_extension": ".py",
   "mimetype": "text/x-python",
   "name": "python",
   "nbconvert_exporter": "python",
   "pygments_lexer": "ipython3",
   "version": "3.9.12"
  }
 },
 "nbformat": 4,
 "nbformat_minor": 5
}
